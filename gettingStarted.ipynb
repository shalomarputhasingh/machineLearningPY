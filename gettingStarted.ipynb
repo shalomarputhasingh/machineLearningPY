{
 "cells": [
  {
   "cell_type": "code",
   "execution_count": 17,
   "metadata": {},
   "outputs": [
    {
     "name": "stdout",
     "output_type": "stream",
     "text": [
      "Hello World\n"
     ]
    }
   ],
   "source": [
    "print(\"Hello World\")"
   ]
  },
  {
   "cell_type": "markdown",
   "metadata": {},
   "source": [
    "# Getting Started with Pandas PY"
   ]
  },
  {
   "cell_type": "code",
   "execution_count": 18,
   "metadata": {},
   "outputs": [],
   "source": [
    "import pandas as pd"
   ]
  },
  {
   "cell_type": "code",
   "execution_count": 19,
   "metadata": {},
   "outputs": [],
   "source": [
    "db = {\n",
    "\n",
    "    \"Name\":[\"Kevin\",\"Ben\",\"Gewn\"],\n",
    "    \"Age\":[10,10,10],\n",
    "    \"Description\":[\"He can observe stuffs\",\"He can transform into aliens using Omnitrix\",\"She is a Magician\"]\n",
    "\n",
    "}"
   ]
  },
  {
   "cell_type": "code",
   "execution_count": 20,
   "metadata": {},
   "outputs": [],
   "source": [
    "# Converts the Dictionary into structured Table\n",
    "df = pd.DataFrame(db)"
   ]
  },
  {
   "cell_type": "code",
   "execution_count": 22,
   "metadata": {},
   "outputs": [
    {
     "name": "stdout",
     "output_type": "stream",
     "text": [
      "    Name  Age                                  Description\n",
      "0  Kevin   10                        He can observe stuffs\n",
      "1    Ben   10  He can transform into aliens using Omnitrix\n",
      "2   Gewn   10                            She is a Magician\n"
     ]
    }
   ],
   "source": [
    "print(df)"
   ]
  },
  {
   "cell_type": "code",
   "execution_count": 25,
   "metadata": {},
   "outputs": [
    {
     "name": "stdout",
     "output_type": "stream",
     "text": [
      "0    Kevin\n",
      "1      Ben\n",
      "2     Gewn\n",
      "Name: Name, dtype: object\n"
     ]
    }
   ],
   "source": [
    "# For displaying a seperate series (aka Row), Use String Slicing Method with the column Name\n",
    "print(df[\"Name\"])"
   ]
  },
  {
   "cell_type": "code",
   "execution_count": 32,
   "metadata": {},
   "outputs": [
    {
     "name": "stdout",
     "output_type": "stream",
     "text": [
      "      Name  Age                                  Description    Kevin\n",
      "0  Testing   10                        He can observe stuffs  Testing\n",
      "1  Testing   10  He can transform into aliens using Omnitrix  Testing\n",
      "2  Testing   10                            She is a Magician  Testing\n"
     ]
    }
   ],
   "source": [
    "df = \"Testing\"\n",
    "print (df)"
   ]
  }
 ],
 "metadata": {
  "kernelspec": {
   "display_name": "Python 3",
   "language": "python",
   "name": "python3"
  },
  "language_info": {
   "codemirror_mode": {
    "name": "ipython",
    "version": 3
   },
   "file_extension": ".py",
   "mimetype": "text/x-python",
   "name": "python",
   "nbconvert_exporter": "python",
   "pygments_lexer": "ipython3",
   "version": "3.12.4"
  }
 },
 "nbformat": 4,
 "nbformat_minor": 2
}
